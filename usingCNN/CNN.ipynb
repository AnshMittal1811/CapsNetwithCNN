{
 "cells": [
  {
   "cell_type": "code",
   "execution_count": null,
   "metadata": {},
   "outputs": [],
   "source": [
    "import pandas as pd \n",
    "import numpy as np \n",
    "import pickle \n",
    "np.random.seed(1212) \n",
    "import keras \n",
    "from keras.models import Model \n",
    "from keras.layers import * \n",
    "from keras import optimizers \n",
    "from keras.layers import Input, Dense \n",
    "from keras.models import Sequential \n",
    "from keras.layers import Dense \n",
    "from keras.layers import Dropout \n",
    "from keras.layers import Flatten \n",
    "from keras.layers.convolutional import Conv2D \n",
    "from keras.layers.convolutional import MaxPooling2D \n",
    "from keras.utils import np_utils \n",
    "from keras import backend as K \n",
    "K.set_image_dim_ordering('th') \n",
    "\n",
    "from keras.utils.np_utils import to_categorical \n",
    "from keras.models import model_from_json \n"
   ]
  },
  {
   "cell_type": "code",
   "execution_count": null,
   "metadata": {},
   "outputs": [],
   "source": [
    "model = Sequential() \n",
    "model.add(Conv2D(30, (5, 5), input_shape =(1, 28, 28), activation ='relu')) \n",
    "model.add(MaxPooling2D(pool_size =(2, 2))) \n",
    "model.add(Conv2D(15, (3, 3), activation ='relu')) \n",
    "model.add(MaxPooling2D(pool_size =(2, 2))) \n",
    "model.add(Dropout(0.2)) \n",
    "model.add(Flatten()) \n",
    "model.add(Dense(128, activation ='relu')) \n",
    "model.add(Dense(50, activation ='relu')) \n",
    "model.add(Dense(13, activation ='softmax')) \n",
    "# Compile model \n",
    "model.compile(loss ='categorical_crossentropy',  \n",
    "              optimizer ='adam', metrics =['accuracy'])"
   ]
  },
  {
   "cell_type": "code",
   "execution_count": null,
   "metadata": {},
   "outputs": [],
   "source": [
    "model.fit(np.array(l), cat, epochs = 10, batch_size = 200,  \n",
    "          shuffle = True, verbose = 1) \n"
   ]
  },
  {
   "cell_type": "code",
   "execution_count": null,
   "metadata": {},
   "outputs": [],
   "source": [
    "model_cnn = model.to_json() \n",
    "with open(\"model_cnn.json\", \"w\") as json_file: \n",
    "    json_file.write(model_cnn) \n",
    "# serialize weights to HDF5 \n",
    "model.save_weights(\"../Models/model_cnn.h5\") \n"
   ]
  },
  {
   "cell_type": "code",
   "execution_count": null,
   "metadata": {},
   "outputs": [],
   "source": [
    "json_file = open('model_final.json', 'r') \n",
    "loaded_model_json = json_file.read() \n",
    "json_file.close() \n",
    "loaded_model = model_from_json(loaded_model_json) \n",
    "# load weights into new model \n",
    "loaded_model.load_weights(\"../Models/model_cnn.h5\") "
   ]
  }
 ],
 "metadata": {
  "kernelspec": {
   "display_name": "Python 3",
   "language": "python",
   "name": "python3"
  },
  "language_info": {
   "codemirror_mode": {
    "name": "ipython",
    "version": 3
   },
   "file_extension": ".py",
   "mimetype": "text/x-python",
   "name": "python",
   "nbconvert_exporter": "python",
   "pygments_lexer": "ipython3",
   "version": "3.6.6"
  }
 },
 "nbformat": 4,
 "nbformat_minor": 2
}
